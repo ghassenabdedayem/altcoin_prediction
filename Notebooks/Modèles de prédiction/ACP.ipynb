{
 "cells": [
  {
   "cell_type": "code",
   "execution_count": 19,
   "metadata": {},
   "outputs": [],
   "source": [
    "#ACP _LDA"
   ]
  },
  {
   "cell_type": "code",
   "execution_count": 20,
   "metadata": {},
   "outputs": [],
   "source": [
    "#Importation des packages"
   ]
  },
  {
   "cell_type": "code",
   "execution_count": 95,
   "metadata": {},
   "outputs": [
    {
     "name": "stderr",
     "output_type": "stream",
     "text": [
      "C:\\Users\\legea\\AppData\\Local\\Continuum\\anaconda3\\lib\\site-packages\\dask\\config.py:168: YAMLLoadWarning: calling yaml.load() without Loader=... is deprecated, as the default Loader is unsafe. Please read https://msg.pyyaml.org/load for full details.\n",
      "  data = yaml.load(f.read()) or {}\n",
      "C:\\Users\\legea\\AppData\\Local\\Continuum\\anaconda3\\lib\\site-packages\\distributed\\config.py:20: YAMLLoadWarning: calling yaml.load() without Loader=... is deprecated, as the default Loader is unsafe. Please read https://msg.pyyaml.org/load for full details.\n",
      "  defaults = yaml.load(f)\n"
     ]
    }
   ],
   "source": [
    "import pandas as pd\n",
    "import numpy as np\n",
    "import matplotlib.pyplot as plt \n",
    "from datetime import datetime\n",
    "from datetime import timedelta\n",
    "\n",
    "from sklearn.decomposition import PCA\n",
    "from sklearn.discriminant_analysis import LinearDiscriminantAnalysis as LDA\n",
    "from sklearn.preprocessing import StandardScaler,MinMaxScaler\n",
    "from sklearn.model_selection import train_test_split,KFold,GridSearchCV,RandomizedSearchCV\n",
    "from sklearn.metrics import mean_squared_error\n",
    "from sklearn.model_selection import StratifiedKFold \n",
    "\n",
    "import xgboost as xgb\n",
    "\n",
    "\n",
    "%matplotlib inline"
   ]
  },
  {
   "cell_type": "code",
   "execution_count": 22,
   "metadata": {},
   "outputs": [],
   "source": [
    "file='https://raw.githubusercontent.com/ghassenabdedayem/AltCoins/master/data_sources/df_global_final.csv'"
   ]
  },
  {
   "cell_type": "code",
   "execution_count": 23,
   "metadata": {},
   "outputs": [],
   "source": [
    "#Charger les données\n",
    "\n",
    "data=pd.read_csv(file)\n",
    "data.head()\n",
    "\n",
    "\n",
    "#Créer la timeline\n",
    "timeline=data.apply(lambda x: datetime.strptime(x['GOLD_Time'],\"%Y-%m-%d\"),axis=1)[1:]\n",
    "\n",
    "\n",
    "#Ajouter une variable \"nombre de jours depuis le début\"\n",
    "def days_between(d1, d2):\n",
    "    d1 = datetime.strptime(d1, \"%Y-%m-%d\")\n",
    "    d2 = datetime.strptime(d2, \"%Y-%m-%d\")\n",
    "    return abs((d2 - d1).days)\n",
    "\n",
    "my_min=min(data['GOLD_Time'])\n",
    "data['day_to_start']=data.apply(lambda x: days_between(x['GOLD_Time'],my_min),axis=1)\n",
    "\n",
    "\n",
    "#créer un df pour conserver la timeline\n",
    "time_df=pd.DataFrame({'date':timeline,'day_to_start':data['day_to_start'][1:]})\n",
    "\n",
    "#Supprimer la colonne temporelle de data\n",
    "data=data.drop('GOLD_Time',axis=1)"
   ]
  },
  {
   "cell_type": "code",
   "execution_count": 24,
   "metadata": {},
   "outputs": [],
   "source": [
    "#Remplacer les na par la valeur précédente non nulle"
   ]
  },
  {
   "cell_type": "code",
   "execution_count": 25,
   "metadata": {},
   "outputs": [],
   "source": [
    "data.ffill(inplace=True)  \n",
    "\n"
   ]
  },
  {
   "cell_type": "code",
   "execution_count": 26,
   "metadata": {},
   "outputs": [
    {
     "data": {
      "text/plain": [
       "0"
      ]
     },
     "execution_count": 26,
     "metadata": {},
     "output_type": "execute_result"
    }
   ],
   "source": []
  },
  {
   "cell_type": "code",
   "execution_count": 27,
   "metadata": {},
   "outputs": [],
   "source": [
    "#Créer target et features"
   ]
  },
  {
   "cell_type": "code",
   "execution_count": 28,
   "metadata": {},
   "outputs": [],
   "source": [
    "target=data.BTC_Close\n",
    "target=target[1:]  #Retirer la première valeur\n",
    "\n",
    "features=data.drop('BTC_Close',axis=1)\n",
    "features=features[:-1]  #Retirer la dernières ligne"
   ]
  },
  {
   "cell_type": "code",
   "execution_count": 29,
   "metadata": {},
   "outputs": [
    {
     "name": "stderr",
     "output_type": "stream",
     "text": [
      "C:\\Users\\legea\\AppData\\Local\\Continuum\\anaconda3\\lib\\site-packages\\sklearn\\preprocessing\\data.py:334: DataConversionWarning: Data with input dtype int64, float64 were all converted to float64 by MinMaxScaler.\n",
      "  return self.partial_fit(X, y)\n"
     ]
    }
   ],
   "source": [
    "#Normalisation\n",
    "\n",
    "scaler=MinMaxScaler()\n",
    "\n",
    "#On conserve le day_to_date normalisé dans time_df (day_to_date est la dernière colonne)\n",
    "\n",
    "feat_norm=pd.DataFrame(scaler.fit_transform(features))\n",
    "\n",
    "\n"
   ]
  },
  {
   "cell_type": "code",
   "execution_count": 30,
   "metadata": {},
   "outputs": [
    {
     "data": {
      "text/plain": [
       "0"
      ]
     },
     "execution_count": 30,
     "metadata": {},
     "output_type": "execute_result"
    }
   ],
   "source": [
    "feat_norm.isnull().sum().sum()"
   ]
  },
  {
   "cell_type": "code",
   "execution_count": 51,
   "metadata": {},
   "outputs": [
    {
     "data": {
      "text/plain": [
       "PCA(copy=True, iterated_power='auto', n_components=0.75, random_state=None,\n",
       "  svd_solver='auto', tol=0.0, whiten=False)"
      ]
     },
     "execution_count": 51,
     "metadata": {},
     "output_type": "execute_result"
    }
   ],
   "source": [
    "pca=PCA(n_components=0.75)\n",
    "pca.fit(feat_norm)\n"
   ]
  },
  {
   "cell_type": "code",
   "execution_count": 52,
   "metadata": {},
   "outputs": [
    {
     "name": "stdout",
     "output_type": "stream",
     "text": [
      "On peut voir que 5 components expliquent  0.7572178303519091 de la variance.\n"
     ]
    }
   ],
   "source": [
    "print('On peut voir que' , len(pca.explained_variance_ratio_) , 'components expliquent ',str(pca.explained_variance_ratio_.sum()) , 'de la variance.')\n"
   ]
  },
  {
   "cell_type": "code",
   "execution_count": null,
   "metadata": {},
   "outputs": [],
   "source": [
    "data_12D=pca.fit(feat_norm)"
   ]
  },
  {
   "cell_type": "code",
   "execution_count": null,
   "metadata": {},
   "outputs": [],
   "source": [
    "fig=plt.figure()\n",
    "ax=fig.add_subplot(111)\n",
    "ax.scatter()"
   ]
  },
  {
   "cell_type": "code",
   "execution_count": 87,
   "metadata": {},
   "outputs": [],
   "source": [
    "def test_components(df,nb_max_comp):\n",
    "    var=[]\n",
    "    for i in range(1,nb_max_comp+1):\n",
    "        pca=PCA(n_components=i)\n",
    "        pca.fit(df)\n",
    "        print(len(pca.explained_variance_ratio_) , 'components expliquent ',round(pca.explained_variance_ratio_.sum(),2)*100 , '% de la variance.')\n",
    "        var.append(pca.explained_variance_ratio_.sum())\n",
    "    plt.plot(var)\n",
    "    plt.xaxis=range(1,nb_max_comp+1)\n",
    "    plt.ylabel('% variance explained');\n",
    "    return var"
   ]
  },
  {
   "cell_type": "code",
   "execution_count": 93,
   "metadata": {},
   "outputs": [
    {
     "name": "stdout",
     "output_type": "stream",
     "text": [
      "1 components expliquent  45.0 % de la variance.\n",
      "2 components expliquent  57.99999999999999 % de la variance.\n",
      "3 components expliquent  66.0 % de la variance.\n",
      "4 components expliquent  72.0 % de la variance.\n",
      "5 components expliquent  76.0 % de la variance.\n",
      "6 components expliquent  79.0 % de la variance.\n",
      "7 components expliquent  82.0 % de la variance.\n",
      "8 components expliquent  84.0 % de la variance.\n",
      "9 components expliquent  86.0 % de la variance.\n",
      "10 components expliquent  88.0 % de la variance.\n",
      "11 components expliquent  90.0 % de la variance.\n",
      "12 components expliquent  91.0 % de la variance.\n",
      "13 components expliquent  92.0 % de la variance.\n",
      "14 components expliquent  92.0 % de la variance.\n",
      "15 components expliquent  93.0 % de la variance.\n",
      "16 components expliquent  94.0 % de la variance.\n",
      "17 components expliquent  94.0 % de la variance.\n",
      "18 components expliquent  95.0 % de la variance.\n",
      "19 components expliquent  95.0 % de la variance.\n",
      "20 components expliquent  96.0 % de la variance.\n",
      "21 components expliquent  96.0 % de la variance.\n",
      "22 components expliquent  97.0 % de la variance.\n",
      "23 components expliquent  97.0 % de la variance.\n",
      "24 components expliquent  97.0 % de la variance.\n",
      "25 components expliquent  97.0 % de la variance.\n",
      "26 components expliquent  97.0 % de la variance.\n",
      "27 components expliquent  98.0 % de la variance.\n",
      "28 components expliquent  98.0 % de la variance.\n",
      "29 components expliquent  98.0 % de la variance.\n",
      "30 components expliquent  98.0 % de la variance.\n",
      "31 components expliquent  98.0 % de la variance.\n",
      "32 components expliquent  98.0 % de la variance.\n",
      "33 components expliquent  99.0 % de la variance.\n",
      "34 components expliquent  99.0 % de la variance.\n",
      "35 components expliquent  99.0 % de la variance.\n"
     ]
    },
    {
     "data": {
      "image/png": "[encoded data removed]",
      "text/plain": [
       "<Figure size 432x288 with 1 Axes>"
      ]
     },
     "metadata": {
      "needs_background": "light"
     },
     "output_type": "display_data"
    }
   ],
   "source": [
    "t_comp=test_components(feat_norm,35)"
   ]
  },
  {
   "cell_type": "markdown",
   "metadata": {},
   "source": [
    "On peut voir que 35 components expliquent 99% de la variance."
   ]
  },
  {
   "cell_type": "code",
   "execution_count": 102,
   "metadata": {},
   "outputs": [],
   "source": [
    "#Regression linéaire\n",
    "from sklearn.linear_model import LinearRegression"
   ]
  },
  {
   "cell_type": "code",
   "execution_count": 97,
   "metadata": {},
   "outputs": [
    {
     "data": {
      "text/plain": [
       "0.9996206850832687"
      ]
     },
     "execution_count": 97,
     "metadata": {},
     "output_type": "execute_result"
    }
   ],
   "source": [
    "X_train,X_test,y_train,y_test=train_test_split(feat_norm,target,test_size=0.2)\n",
    "\n",
    "dtrain = xgb.DMatrix(X_train, label=y_train)\n",
    "dtest = xgb.DMatrix(X_test, label=y_test)\n",
    "\n",
    "\n"
   ]
  },
  {
   "cell_type": "markdown",
   "metadata": {},
   "source": [
    "Nous allons voir si les méthodes de réductions de dimension améliorent les scores sur une régression linéaire."
   ]
  },
  {
   "cell_type": "code",
   "execution_count": 136,
   "metadata": {},
   "outputs": [],
   "source": [
    "lr1=LinearRegression()\n",
    "lr1.fit(X_train,y_train)\n",
    "score_lr=lr1.score(X_test,y_test)\n"
   ]
  },
  {
   "cell_type": "code",
   "execution_count": 137,
   "metadata": {},
   "outputs": [],
   "source": [
    "pca=PCA(n_components=0.9)\n",
    "lr1.fit(X_train_pca,y_train)\n",
    "score_pca=lr1.score(X_test_pca,y_test)"
   ]
  },
  {
   "cell_type": "code",
   "execution_count": 138,
   "metadata": {},
   "outputs": [
    {
     "name": "stderr",
     "output_type": "stream",
     "text": [
      "C:\\Users\\legea\\AppData\\Local\\Continuum\\anaconda3\\lib\\site-packages\\sklearn\\discriminant_analysis.py:388: UserWarning: Variables are collinear.\n",
      "  warnings.warn(\"Variables are collinear.\")\n"
     ]
    }
   ],
   "source": [
    "lda=LDA()\n",
    "X_train_lda=lda.fit_transform(X_train,y_train)\n",
    "X_test_lda=lda.transform(X_test)\n",
    "\n",
    "lr1.fit(X_train_lda,y_train)\n",
    "score_lda=lr1.score(X_test_lda,y_test)"
   ]
  },
  {
   "cell_type": "markdown",
   "metadata": {},
   "source": [
    "Nous pouvons voir que le score avec LDA est très légèrement supérieur au score sans LDA. L'ACP ne donne pas de bons résultats."
   ]
  },
  {
   "cell_type": "code",
   "execution_count": 145,
   "metadata": {},
   "outputs": [
    {
     "name": "stdout",
     "output_type": "stream",
     "text": [
      "R2 LR 0.9999870969029435\n",
      "R2 PCA LR 0.8997873662230002\n",
      "R2 LDA LR 0.9999871406399301\n"
     ]
    }
   ],
   "source": [
    "print('R2 LR',score_lr)\n",
    "print(\"R2 PCA LR\",score_pca)\n",
    "print(\"R2 LDA LR\",score_lda)"
   ]
  }
 ],
 "metadata": {
  "kernelspec": {
   "display_name": "Python 3",
   "language": "python",
   "name": "python3"
  },
  "language_info": {
   "codemirror_mode": {
    "name": "ipython",
    "version": 3
   },
   "file_extension": ".py",
   "mimetype": "text/x-python",
   "name": "python",
   "nbconvert_exporter": "python",
   "pygments_lexer": "ipython3",
   "version": "3.7.3"
  }
 },
 "nbformat": 4,
 "nbformat_minor": 2
}
